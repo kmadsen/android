{
 "cells": [
  {
   "cell_type": "code",
   "execution_count": 25,
   "metadata": {},
   "outputs": [
    {
     "name": "stdout",
     "output_type": "stream",
     "text": [
      "android:pathData=\"M 50,50 m -18,0 a 18,18 0 1,0 36, 0 a 18,18 0 1,0 -36, 0\"\n",
      "android:pathData=\"M 32,32 Q 50.0,16 68 32 L 50.0,5 L 32,32\"\n"
     ]
    }
   ],
   "source": [
    "#https://stackoverflow.com/questions/5737975/circle-drawing-with-svgs-arc-path\n",
    "# <path \n",
    "#     android:pathData=\"\n",
    "#     M cx cy\n",
    "#     m -r, 0\n",
    "#     a r,r 0 1,0 (r * 2),0\n",
    "#     a r,r 0 1,0 -(r * 2),0\n",
    "#     \"\n",
    "# />\n",
    "\n",
    "size = 100\n",
    "padding = 16\n",
    "cx = int(size / 2)\n",
    "cy = int(size / 2)\n",
    "r = int(size / 2 - padding * 2)\n",
    "\n",
    "print(\"android:pathData=\\\"M {},{} m {},0 a {},{} 0 1,0 {}, 0 a {},{} 0 1,0 {}, 0\\\"\".format(cx, cy, -r, r, r, r*2, r, r, -r*2))\n",
    "\n",
    "# https://developer.mozilla.org/en-US/docs/Web/SVG/Tutorial/Paths\n",
    "# M px,py Q x1 y1, x y\n",
    "\n",
    "px = padding * 2\n",
    "py = padding * 2\n",
    "x1 = size / 2\n",
    "y1 = padding\n",
    "x = size - px\n",
    "y = py\n",
    "tx = size / 2\n",
    "ty = 5\n",
    "\n",
    "print(\"android:pathData=\\\"M {},{} Q {},{} {} {} L {},{} L {},{}\\\"\".format(px, py, x1, y1, x, y, tx, ty, px, py))"
   ]
  },
  {
   "cell_type": "code",
   "execution_count": null,
   "metadata": {
    "collapsed": true
   },
   "outputs": [],
   "source": []
  }
 ],
 "metadata": {
  "kernelspec": {
   "display_name": "Python 3",
   "language": "python",
   "name": "python3"
  },
  "language_info": {
   "codemirror_mode": {
    "name": "ipython",
    "version": 3
   },
   "file_extension": ".py",
   "mimetype": "text/x-python",
   "name": "python",
   "nbconvert_exporter": "python",
   "pygments_lexer": "ipython3",
   "version": "3.5.2"
  }
 },
 "nbformat": 4,
 "nbformat_minor": 2
}
