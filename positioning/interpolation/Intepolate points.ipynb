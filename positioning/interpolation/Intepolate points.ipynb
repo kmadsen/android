{
 "cells": [
  {
   "cell_type": "markdown",
   "metadata": {},
   "source": [
    "## Assumptions\n",
    "\n",
    "1. Subject will reach points at event seconds\n",
    "2. Speed is adjusted if points limit velocity and acceleration\n",
    "\n",
    "A smoothing filter is applied to identify points where the route turn is beyond a threshold. This creates a constraint for where output points will be to create smooth animation.\n",
    "\n",
    "## Algorithm\n",
    "\n",
    "1. Given a list of locations on a route $polyline$\n",
    "2. Create a $smoothRoute = smooth(polyline)$ where every location is changing route direction by $SmoothRouteThreshold$\n",
    "3. Create a $speedGraph$ where locations and roads have a speed, roads have max and locations have a minimum\n",
    "4. Interpolate each location to location with 1/s connection locations\n",
    "\n",
    "### Constraints\n",
    "- $SmoothRouteThreshold$ Maximum direction change between two points\n",
    "- $SpeedGraph$ Every point and edge has a desired speed\n",
    "\n",
    "### Equations\n",
    "\n",
    "EDIT: these all changed after hacking\n",
    "\n",
    "Calculate the accelaration\n",
    "\n",
    "- Accelera iteration $a(t)=min(MAX_A, MAX_V-v(t-1))$\n",
    "- Accelera iteration $a(t)=MAX_A$ if $d(t)*v(t) < D$\n",
    "- Decelera iteration $a(t)=MIN_A$ if $d(t)*v(t) > D$\n",
    "- Constant iteration $a(t)=0$ if $v(t) == MAX_V$\n",
    "\n",
    "Update the subject\n",
    "\n",
    "- Velocity iteration $v(t)=v(t-1)+a(t)$\n",
    "- Position iteration $p(t)=p(t-1)+\\frac{v(t) + v(t-1)}{2\\Delta{t}}$\n",
    "- Distance iteration $d(t)=D-p(t)$"
   ]
  },
  {
   "cell_type": "code",
   "execution_count": 1,
   "metadata": {},
   "outputs": [],
   "source": [
    "def distanceToStop(velocity, acceleration):\n",
    "    distanceToStop = velocity * -acceleration\n",
    "    while (velocity > 0):\n",
    "        velocityNext = velocity + acceleration\n",
    "        distanceToStop += (velocity + velocityNext) / 2.0\n",
    "        velocity = velocityNext\n",
    "    return distanceToStop"
   ]
  },
  {
   "cell_type": "code",
   "execution_count": 11,
   "metadata": {},
   "outputs": [
    {
     "name": "stdout",
     "output_type": "stream",
     "text": [
      "stoppingDistance:46.0 remainingDistance:200.32 slowDownFactor:0.22963258785942492\n",
      "stoppingDistance:53.0 remainingDistance:189.82 slowDownFactor:0.2792118849436308\n",
      "stoppingDistance:66.5 remainingDistance:177.82 slowDownFactor:0.37397368125070296\n",
      "stoppingDistance:90.0 remainingDistance:163.32 slowDownFactor:0.5510653930933138\n",
      "stoppingDistance:126.5 remainingDistance:145.32 slowDownFactor:0.8704927057528214\n",
      "stoppingDistance:126.5 remainingDistance:125.32 slowDownFactor:1.0094158953080115\n",
      "stoppingDistance:116.5 remainingDistance:105.82 slowDownFactor:1.100926100926101\n",
      "stoppingDistance:99.0 remainingDistance:87.82 slowDownFactor:1.1273058528808928\n",
      "stoppingDistance:74.5 remainingDistance:72.32 slowDownFactor:1.0301438053097347\n",
      "stoppingDistance:53.0 remainingDistance:59.81999999999999 slowDownFactor:0.8859913072550988\n",
      "stoppingDistance:53.0 remainingDistance:48.81999999999999 slowDownFactor:1.0856206472757068\n",
      "stoppingDistance:46.0 remainingDistance:38.31999999999999 slowDownFactor:1.200417536534447\n",
      "stoppingDistance:34.5 remainingDistance:29.319999999999993 slowDownFactor:1.1766712141882676\n",
      "stoppingDistance:19.0 remainingDistance:22.819999999999993 slowDownFactor:0.8326029798422439\n",
      "stoppingDistance:10.5 remainingDistance:18.819999999999993 slowDownFactor:0.5579171094580235\n",
      "stoppingDistance:6.5 remainingDistance:16.319999999999993 slowDownFactor:0.39828431372549034\n",
      "stoppingDistance:6.5 remainingDistance:14.319999999999993 slowDownFactor:0.45391061452513987\n",
      "stoppingDistance:10.5 remainingDistance:11.819999999999993 slowDownFactor:0.8883248730964473\n",
      "stoppingDistance:10.5 remainingDistance:8.819999999999993 slowDownFactor:1.1904761904761914\n",
      "stoppingDistance:6.5 remainingDistance:6.319999999999993 slowDownFactor:1.0284810126582289\n",
      "stoppingDistance:0 remainingDistance:5.319999999999993 slowDownFactor:0.0\n",
      "stoppingDistance:-3 remainingDistance:5.819999999999993 slowDownFactor:-0.5154639175257738\n",
      "stoppingDistance:0 remainingDistance:6.319999999999993 slowDownFactor:0.0\n",
      "stoppingDistance:6.5 remainingDistance:5.319999999999993 slowDownFactor:1.221804511278197\n",
      "stoppingDistance:10.5 remainingDistance:2.819999999999993 slowDownFactor:3.7234042553191578\n"
     ]
    },
    {
     "data": {
      "image/png": "[encoded data removed]",
      "text/plain": [
       "<Figure size 432x288 with 1 Axes>"
      ]
     },
     "metadata": {
      "needs_background": "light"
     },
     "output_type": "display_data"
    },
    {
     "data": {
      "image/png": "[encoded data removed]",
      "text/plain": [
       "<Figure size 432x288 with 1 Axes>"
      ]
     },
     "metadata": {
      "needs_background": "light"
     },
     "output_type": "display_data"
    },
    {
     "name": "stdout",
     "output_type": "stream",
     "text": [
      "t:0\ta:0\tv:10\tp:0\n",
      "t:1\ta:1\tv:11\tp:10.5\n",
      "t:2\ta:2\tv:13\tp:22.5\n",
      "t:3\ta:3\tv:16\tp:37.0\n",
      "t:4\ta:4\tv:20\tp:55.0\n",
      "t:5\ta:0\tv:20\tp:75.0\n",
      "t:6\ta:-1\tv:19\tp:94.5\n",
      "t:7\ta:-2\tv:17\tp:112.5\n",
      "t:8\ta:-3\tv:14\tp:128.0\n",
      "t:9\ta:-3\tv:11\tp:140.5\n",
      "t:10\ta:0\tv:11\tp:151.5\n",
      "t:11\ta:-1\tv:10\tp:162.0\n",
      "t:12\ta:-2\tv:8\tp:171.0\n",
      "t:13\ta:-3\tv:5\tp:177.5\n",
      "t:14\ta:-2\tv:3\tp:181.5\n",
      "t:15\ta:-1\tv:2\tp:184.0\n",
      "t:16\ta:0\tv:2\tp:186.0\n",
      "t:17\ta:1\tv:3\tp:188.5\n",
      "t:18\ta:0\tv:3\tp:191.5\n",
      "t:19\ta:-1\tv:2\tp:194.0\n",
      "t:20\ta:-2\tv:0\tp:195.0\n",
      "t:21\ta:-1\tv:-1\tp:194.5\n",
      "t:22\ta:1\tv:0\tp:194.0\n",
      "t:23\ta:2\tv:2\tp:195.0\n",
      "t:24\ta:1\tv:3\tp:197.5\n",
      "t:25\ta:0\tv:3\tp:200.5\n"
     ]
    }
   ],
   "source": [
    "import matplotlib.pyplot as plt\n",
    "import numpy as np\n",
    "\n",
    "# input with all units the same\n",
    "# keep integers\n",
    "distance = 200.32\n",
    "maxAcceleration = 4\n",
    "minAcceleration = -3\n",
    "maxVelocity = 27\n",
    "\n",
    "endVelocity = 0\n",
    "t = [0]\n",
    "a = [0]\n",
    "v = [10]\n",
    "p = [0]\n",
    "for i in range(1, 2000):\n",
    "    # Remaining distance\n",
    "    remainingDistance = distance - p[i-1]\n",
    "    if (remainingDistance <= 0):\n",
    "        break\n",
    "    t.append(i)\n",
    "    \n",
    "    # Calculate acceleration\n",
    "    aNow = min(a[i-1]+1, maxAcceleration)\n",
    "    if (v[i-1] == maxVelocity):\n",
    "        aNow = 0\n",
    "    elif (v[i-1] > maxVelocity):\n",
    "        aNow = -1\n",
    "    \n",
    "    stoppingDistance = distanceToStop(v[i-1], minAcceleration)\n",
    "    slowDownFactor = stoppingDistance / remainingDistance\n",
    "    if (slowDownFactor*slowDownFactor > 0.70):\n",
    "        aNow = 0\n",
    "        \n",
    "    print(\"stoppingDistance:%s remainingDistance:%s slowDownFactor:%s\" %(stoppingDistance, remainingDistance, slowDownFactor))\n",
    "    if (stoppingDistance >= remainingDistance):\n",
    "        aNow = max(a[i-1]-1, minAcceleration)\n",
    "        \n",
    "    if (v[i-1] < endVelocity):\n",
    "        aNow = max(aNow+1, 0)\n",
    "    \n",
    "    a.append(aNow)\n",
    "     \n",
    "    # Calculate speed\n",
    "    v.append(v[i-1] + a[i])\n",
    "    \n",
    "    # Calculate position\n",
    "    pDelta = (v[i] + v[i-1]) / 2.0\n",
    "    p.append(p[i-1] + pDelta)\n",
    "    \n",
    "    \n",
    "plt.plot(t, p)\n",
    "plt.show()\n",
    "\n",
    "plt.plot(p, v)\n",
    "plt.show()\n",
    "\n",
    "zipped = zip(t, a, v, p)\n",
    "for values in zipped: \n",
    "    print (\"t:%s\\ta:%s\\tv:%s\\tp:%s\" %(values[0], values[1], values[2], values[3])) "
   ]
  },
  {
   "cell_type": "code",
   "execution_count": null,
   "metadata": {},
   "outputs": [],
   "source": []
  },
  {
   "cell_type": "code",
   "execution_count": null,
   "metadata": {},
   "outputs": [],
   "source": []
  },
  {
   "cell_type": "code",
   "execution_count": null,
   "metadata": {},
   "outputs": [],
   "source": []
  }
 ],
 "metadata": {
  "kernelspec": {
   "display_name": "Python 3",
   "language": "python",
   "name": "python3"
  },
  "language_info": {
   "codemirror_mode": {
    "name": "ipython",
    "version": 3
   },
   "file_extension": ".py",
   "mimetype": "text/x-python",
   "name": "python",
   "nbconvert_exporter": "python",
   "pygments_lexer": "ipython3",
   "version": "3.7.5"
  }
 },
 "nbformat": 4,
 "nbformat_minor": 4
}
