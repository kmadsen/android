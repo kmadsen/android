{
 "cells": [
  {
   "cell_type": "markdown",
   "metadata": {},
   "source": [
    "## Assumptions\n",
    "\n",
    "1. Subject will reach points at event seconds\n",
    "2. Speed is adjusted if points limit velocity and acceleration\n",
    "\n",
    "A smoothing filter is applied to identify points where the route turn is beyond a threshold. This creates a constraint for where output points will be to create smooth animation.\n",
    "\n",
    "## Algorithm\n",
    "\n",
    "1. Given a list of locations on a route $polyline$\n",
    "2. Create a $smoothRoute = smooth(polyline)$ where every location is changing route direction by $SmoothRouteThreshold$\n",
    "3. Create a $speedGraph$ where locations and roads have a speed, roads have max and locations have a minimum\n",
    "4. Interpolate each location to location with 1/s connection locations\n",
    "\n",
    "### Constraints\n",
    "- $SmoothRouteThreshold$ Maximum direction change between two points\n",
    "- $SpeedGraph$ Every point and edge has a desired speed\n",
    "\n",
    "### Equations\n",
    "\n",
    "EDIT: these all changed after hacking\n",
    "\n",
    "Calculate the accelaration\n",
    "\n",
    "- Accelera iteration $a(t)=min(MAX_A, MAX_V-v(t-1))$\n",
    "- Accelera iteration $a(t)=MAX_A$ if $d(t)*v(t) < D$\n",
    "- Decelera iteration $a(t)=MIN_A$ if $d(t)*v(t) > D$\n",
    "- Constant iteration $a(t)=0$ if $v(t) == MAX_V$\n",
    "\n",
    "Update the subject\n",
    "\n",
    "- Velocity iteration $v(t)=v(t-1)+a(t)$\n",
    "- Position iteration $p(t)=p(t-1)+\\frac{v(t) + v(t-1)}{2\\Delta{t}}$\n",
    "- Distance iteration $d(t)=D-p(t)$"
   ]
  },
  {
   "cell_type": "code",
   "execution_count": 13,
   "metadata": {},
   "outputs": [],
   "source": [
    "def distanceToStop(velocity, acceleration):\n",
    "    distanceToStop = velocity\n",
    "    while (velocity > 0):\n",
    "        velocityNext = velocity + acceleration\n",
    "        distanceToStop += (velocity + velocityNext) / 2.0\n",
    "        velocity = velocityNext\n",
    "    return distanceToStop"
   ]
  },
  {
   "cell_type": "code",
   "execution_count": 15,
   "metadata": {},
   "outputs": [
    {
     "name": "stdout",
     "output_type": "stream",
     "text": [
      "stoppingDistance:12.0 remainingDistance:80.86 slowDownFactor:0.14840465001236705\n",
      "stoppingDistance:14.5 remainingDistance:74.36 slowDownFactor:0.19499731038192578\n",
      "stoppingDistance:22.5 remainingDistance:66.36 slowDownFactor:0.33905967450271246\n",
      "stoppingDistance:36.0 remainingDistance:55.86 slowDownFactor:0.644468313641246\n",
      "stoppingDistance:58.0 remainingDistance:41.86 slowDownFactor:1.385570950788342\n",
      "stoppingDistance:40.5 remainingDistance:27.36 slowDownFactor:1.480263157894737\n",
      "stoppingDistance:26.0 remainingDistance:15.86 slowDownFactor:1.639344262295082\n",
      "stoppingDistance:14.5 remainingDistance:7.359999999999999 slowDownFactor:1.970108695652174\n",
      "stoppingDistance:6.0 remainingDistance:1.8599999999999994 slowDownFactor:3.2258064516129044\n"
     ]
    },
    {
     "data": {
      "image/png": "[encoded data removed]",
      "text/plain": [
       "<Figure size 432x288 with 1 Axes>"
      ]
     },
     "metadata": {
      "needs_background": "light"
     },
     "output_type": "display_data"
    },
    {
     "data": {
      "image/png": "[encoded data removed]",
      "text/plain": [
       "<Figure size 432x288 with 1 Axes>"
      ]
     },
     "metadata": {
      "needs_background": "light"
     },
     "output_type": "display_data"
    },
    {
     "name": "stdout",
     "output_type": "stream",
     "text": [
      "t:0\ta:0\tv:6\tp:0\n",
      "t:1\ta:1\tv:7\tp:6.5\n",
      "t:2\ta:2\tv:9\tp:14.5\n",
      "t:3\ta:3\tv:12\tp:25.0\n",
      "t:4\ta:4\tv:16\tp:39.0\n",
      "t:5\ta:-3\tv:13\tp:53.5\n",
      "t:6\ta:-3\tv:10\tp:65.0\n",
      "t:7\ta:-3\tv:7\tp:73.5\n",
      "t:8\ta:-3\tv:4\tp:79.0\n",
      "t:9\ta:-3\tv:1\tp:81.5\n"
     ]
    }
   ],
   "source": [
    "import matplotlib.pyplot as plt\n",
    "import numpy as np\n",
    "\n",
    "# input with all units the same\n",
    "# keep integers\n",
    "distance = 80.86\n",
    "maxAcceleration = 4\n",
    "minAcceleration = -3\n",
    "maxVelocity = 27\n",
    "\n",
    "\n",
    "endVelocity = 0\n",
    "t = [0]\n",
    "a = [0]\n",
    "v = [6]\n",
    "p = [0]\n",
    "for i in range(1, 2000):\n",
    "    # Remaining distance\n",
    "    remainingDistance = distance - p[i-1]\n",
    "    if (remainingDistance <= 0):\n",
    "        break\n",
    "    t.append(i)\n",
    "    \n",
    "    # Calculate acceleration\n",
    "    aNow = min(a[i-1]+1, maxAcceleration)\n",
    "    if (v[i-1] == maxVelocity):\n",
    "        aNow = 0\n",
    "    elif (v[i-1] > maxVelocity):\n",
    "        aNow = -1\n",
    "    \n",
    "    stoppingDistance = distanceToStop(v[i-1], minAcceleration)\n",
    "    slowDownFactor = stoppingDistance / remainingDistance\n",
    "    if (slowDownFactor*slowDownFactor > 0.70):\n",
    "        aNow = 0\n",
    "        \n",
    "    print(\"stoppingDistance:%s remainingDistance:%s slowDownFactor:%s\" %(stoppingDistance, remainingDistance, slowDownFactor))\n",
    "    if (stoppingDistance >= remainingDistance):\n",
    "        aNow = minAcceleration\n",
    "        \n",
    "    if (v[i-1] + aNow < endVelocity):\n",
    "        aNow = max(aNow+1, 0)\n",
    "    \n",
    "    a.append(aNow)\n",
    "     \n",
    "    # Calculate speed\n",
    "    v.append(v[i-1] + a[i])\n",
    "    \n",
    "    # Calculate position\n",
    "    pDelta = (v[i] + v[i-1]) / 2.0\n",
    "    p.append(p[i-1] + pDelta)\n",
    "    \n",
    "    \n",
    "plt.plot(t, p)\n",
    "plt.show()\n",
    "\n",
    "plt.plot(p, v)\n",
    "plt.show()\n",
    "\n",
    "zipped = zip(t, a, v, p)\n",
    "for values in zipped: \n",
    "    print (\"t:%s\\ta:%s\\tv:%s\\tp:%s\" %(values[0], values[1], values[2], values[3])) "
   ]
  },
  {
   "cell_type": "code",
   "execution_count": null,
   "metadata": {},
   "outputs": [],
   "source": []
  },
  {
   "cell_type": "code",
   "execution_count": null,
   "metadata": {},
   "outputs": [],
   "source": []
  },
  {
   "cell_type": "code",
   "execution_count": null,
   "metadata": {},
   "outputs": [],
   "source": []
  }
 ],
 "metadata": {
  "kernelspec": {
   "display_name": "Python 3",
   "language": "python",
   "name": "python3"
  },
  "language_info": {
   "codemirror_mode": {
    "name": "ipython",
    "version": 3
   },
   "file_extension": ".py",
   "mimetype": "text/x-python",
   "name": "python",
   "nbconvert_exporter": "python",
   "pygments_lexer": "ipython3",
   "version": "3.7.5"
  }
 },
 "nbformat": 4,
 "nbformat_minor": 4
}
